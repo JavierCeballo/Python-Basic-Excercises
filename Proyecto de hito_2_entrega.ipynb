{
 "cells": [
  {
   "cell_type": "markdown",
   "metadata": {
    "collapsed": true
   },
   "source": [
    "# Milestone Project 2 - Walkthrough Steps Workbook\n",
    "Below is a set of steps for you to follow to try to create the Blackjack Milestone Project game!"
   ]
  },
  {
   "cell_type": "markdown",
   "metadata": {},
   "source": [
    "## Game Play\n",
    "To play a hand of Blackjack the following steps must be followed:\n",
    "1. Create a deck of 52 cards\n",
    "2. Shuffle the deck\n",
    "3. Ask the Player for their bet\n",
    "4. Make sure that the Player's bet does not exceed their available chips\n",
    "5. Deal two cards to the Dealer and two cards to the Player\n",
    "6. Show only one of the Dealer's cards, the other remains hidden\n",
    "7. Show both of the Player's cards\n",
    "8. Ask the Player if they wish to Hit, and take another card\n",
    "9. If the Player's hand doesn't Bust (go over 21), ask if they'd like to Hit again.\n",
    "10. If a Player Stands, play the Dealer's hand. The dealer will always Hit until the Dealer's value meets or exceeds 17\n",
    "11. Determine the winner and adjust the Player's chips accordingly\n",
    "12. Ask the Player if they'd like to play again"
   ]
  },
  {
   "cell_type": "markdown",
   "metadata": {},
   "source": [
    "## Playing Cards\n",
    "A standard deck of playing cards has four suits (Hearts, Diamonds, Spades and Clubs) and thirteen ranks (2 through 10, then the face cards Jack, Queen, King and Ace) for a total of 52 cards per deck. Jacks, Queens and Kings all have a rank of 10. Aces have a rank of either 11 or 1 as needed to reach 21 without busting. As a starting point in your program, you may want to assign variables to store a list of suits, ranks, and then use a dictionary to map ranks to values."
   ]
  },
  {
   "cell_type": "markdown",
   "metadata": {},
   "source": [
    "## The Game\n",
    "### Imports and Global Variables\n",
    "** Step 1: Import the random module. This will be used to shuffle the deck prior to dealing. Then, declare variables to store suits, ranks and values. You can develop your own system, or copy ours below. Finally, declare a Boolean value to be used to control <code>while</code> loops. This is a common practice used to control the flow of the game.**\n",
    "\n",
    "    suits = ('Hearts', 'Diamonds', 'Spades', 'Clubs')\n",
    "    ranks = ('Two', 'Three', 'Four', 'Five', 'Six', 'Seven', 'Eight', 'Nine', 'Ten', 'Jack', 'Queen', 'King', 'Ace')\n",
    "    values = {'Two':2, 'Three':3, 'Four':4, 'Five':5, 'Six':6, 'Seven':7, 'Eight':8, 'Nine':9, 'Ten':10, 'Jack':10,\n",
    "             'Queen':10, 'King':10, 'Ace':11}"
   ]
  },
  {
   "cell_type": "code",
   "execution_count": 1,
   "metadata": {},
   "outputs": [],
   "source": [
    "import random\n",
    "\n",
    "palos = ('Corazones','Diamantes','Picas','Tréboles')\n",
    "rangos = ('Dos','Tres','Cuatro','Cinco','Seis','Siete','Ocho','Nueve','Diez','Jota','Reina','Rey','As')\n",
    "valores = {'Dos':2,'Tres':3,'Cuatro':4,'Cinco':5,'Seis':6,'Siete':7,'Ocho':8,'Nueve':9,'Diez':10,\n",
    "         'Jota':10,'Reina':10,'Rey':10,'As':11}\n",
    "\n",
    "playing = True"
   ]
  },
  {
   "cell_type": "markdown",
   "metadata": {},
   "source": [
    "### Class Definitions\n",
    "Consider making a Card class where each Card object has a suit and a rank, then a Deck class to hold all 52 Card objects, and can be shuffled, and finally a Hand class that holds those Cards that have been dealt to each player from the Deck."
   ]
  },
  {
   "cell_type": "markdown",
   "metadata": {},
   "source": [
    "**Step 2: Create a Card Class**<br>\n",
    "A Card object really only needs two attributes: suit and rank. You might add an attribute for \"value\" - we chose to handle value later when developing our Hand class.<br>In addition to the Card's \\_\\_init\\_\\_ method, consider adding a \\_\\_str\\_\\_ method that, when asked to print a Card, returns a string in the form \"Two of Hearts\""
   ]
  },
  {
   "cell_type": "code",
   "execution_count": 2,
   "metadata": {},
   "outputs": [],
   "source": [
    "class Carta():\n",
    "    '''\n",
    "    Esta clase contiene dos atributos que permiten caracterizar\n",
    "    una baraja inglesa. Estos atributos son: palo (que representa a\n",
    "    cada uno de los conjuntos en que se divide el mazo de cartas)\n",
    "    y rangos (referido a los elementos en que se divide cada palo).\n",
    "    Cualquier objeto que se instancie a esta clase, podrá tener estos\n",
    "    atributos.\n",
    "    '''\n",
    "    \n",
    "    def __init__(self,palo,rango):\n",
    "        self.palo=palo\n",
    "        self.rango=rango\n",
    "    \n",
    "    def __str__(self):\n",
    "        return f'{self.rango} de {self.palo}'"
   ]
  },
  {
   "cell_type": "markdown",
   "metadata": {},
   "source": [
    "**Step 3: Create a Deck Class**<br>\n",
    "Here we might store 52 card objects in a list that can later be shuffled. First, though, we need to *instantiate* all 52 unique card objects and add them to our list. So long as the Card class definition appears in our code, we can build Card objects inside our Deck \\_\\_init\\_\\_ method. Consider iterating over sequences of suits and ranks to build out each card. This might appear inside a Deck class \\_\\_init\\_\\_ method:\n",
    "\n",
    "    for suit in suits:\n",
    "        for rank in ranks:\n",
    "\n",
    "In addition to an \\_\\_init\\_\\_ method we'll want to add methods to shuffle our deck, and to deal out cards during gameplay.<br><br>\n",
    "OPTIONAL: We may never need to print the contents of the deck during gameplay, but having the ability to see the cards inside it may help troubleshoot any problems that occur during development. With this in mind, consider adding a \\_\\_str\\_\\_ method to the class definition."
   ]
  },
  {
   "cell_type": "code",
   "execution_count": 3,
   "metadata": {},
   "outputs": [],
   "source": [
    "class Cubierta():\n",
    "    '''Esta clase permite crear objetos de carta (a partir\n",
    "    de la clase 'Carta') con el fin de formar un mazo de\n",
    "    cartas Inglesas contentivo de 52 unidades.\n",
    "    '''\n",
    "    \n",
    "    def __init__(self):\n",
    "        self.cubierta=[]\n",
    "        for palo in palos:\n",
    "            for rango in rangos:\n",
    "                self.cubierta.append(Carta(palo,rango))\n",
    "    \n",
    "    def __str__(self):\n",
    "        \n",
    "        '''Este es un método especial que permite\n",
    "        que se muestre cualquier objeto instanciado a esta clase\n",
    "        en forma de cadena de caracteres.\n",
    "        '''\n",
    "        mostrar_cartas=''\n",
    "        for carta in self.cubierta:\n",
    "            mostrar_cartas+='\\n'+str(carta)\n",
    "        return 'Las cartas del mazo son las siguientes:'+'\\n'+mostrar_cartas\n",
    "            \n",
    "\n",
    "    def shuffle(self):\n",
    "        random.shuffle(self.cubierta)\n",
    "        \n",
    "    def deal(self):\n",
    "        mi_carta=self.cubierta.pop()\n",
    "        return mi_carta"
   ]
  },
  {
   "cell_type": "markdown",
   "metadata": {},
   "source": [
    "TESTING: Just to see that everything works so far, let's see what our Deck looks like!"
   ]
  },
  {
   "cell_type": "code",
   "execution_count": 4,
   "metadata": {},
   "outputs": [
    {
     "name": "stdout",
     "output_type": "stream",
     "text": [
      "Las cartas del mazo son las siguientes:\n",
      "\n",
      "Dos de Corazones\n",
      "Tres de Corazones\n",
      "Cuatro de Corazones\n",
      "Cinco de Corazones\n",
      "Seis de Corazones\n",
      "Siete de Corazones\n",
      "Ocho de Corazones\n",
      "Nueve de Corazones\n",
      "Diez de Corazones\n",
      "Jota de Corazones\n",
      "Reina de Corazones\n",
      "Rey de Corazones\n",
      "As de Corazones\n",
      "Dos de Diamantes\n",
      "Tres de Diamantes\n",
      "Cuatro de Diamantes\n",
      "Cinco de Diamantes\n",
      "Seis de Diamantes\n",
      "Siete de Diamantes\n",
      "Ocho de Diamantes\n",
      "Nueve de Diamantes\n",
      "Diez de Diamantes\n",
      "Jota de Diamantes\n",
      "Reina de Diamantes\n",
      "Rey de Diamantes\n",
      "As de Diamantes\n",
      "Dos de Picas\n",
      "Tres de Picas\n",
      "Cuatro de Picas\n",
      "Cinco de Picas\n",
      "Seis de Picas\n",
      "Siete de Picas\n",
      "Ocho de Picas\n",
      "Nueve de Picas\n",
      "Diez de Picas\n",
      "Jota de Picas\n",
      "Reina de Picas\n",
      "Rey de Picas\n",
      "As de Picas\n",
      "Dos de Tréboles\n",
      "Tres de Tréboles\n",
      "Cuatro de Tréboles\n",
      "Cinco de Tréboles\n",
      "Seis de Tréboles\n",
      "Siete de Tréboles\n",
      "Ocho de Tréboles\n",
      "Nueve de Tréboles\n",
      "Diez de Tréboles\n",
      "Jota de Tréboles\n",
      "Reina de Tréboles\n",
      "Rey de Tréboles\n",
      "As de Tréboles\n"
     ]
    }
   ],
   "source": [
    "probar_cubierta = Cubierta()\n",
    "print(probar_cubierta)"
   ]
  },
  {
   "cell_type": "markdown",
   "metadata": {},
   "source": [
    "Great! Now let's move on to our Hand class."
   ]
  },
  {
   "cell_type": "markdown",
   "metadata": {},
   "source": [
    "**Step 4: Create a Hand Class**<br>\n",
    "In addition to holding Card objects dealt from the Deck, the Hand class may be used to calculate the value of those cards using the values dictionary defined above. It may also need to adjust for the value of Aces when appropriate."
   ]
  },
  {
   "cell_type": "code",
   "execution_count": 5,
   "metadata": {},
   "outputs": [],
   "source": [
    "class Mano():\n",
    "    '''Esta clase permitirá representar el valor\n",
    "    de las cartas que están en la mano de cada participante\n",
    "    del juego.'''\n",
    "    def __init__(self):\n",
    "        self.cartas = []  # start with an empty list as we did in the Deck class\n",
    "        self.valor = 0   # start with zero value\n",
    "        self.ases = 0    # add an attribute to keep track of aces\n",
    "    \n",
    "    def add_card(self,carta):\n",
    "        self.cartas.append(carta)\n",
    "        self.valor+=valores[carta.rango]\n",
    "        \n",
    "        #Para guardar el número de ases que se tienen en una mano\n",
    "        if carta.rango==\"As\":\n",
    "            self.ases+=1\n",
    "    \n",
    "    def adjust_for_ace(self):\n",
    "        while self.valor>21 and self.ases:\n",
    "            self.valor-=10\n",
    "            self.ases-=1"
   ]
  },
  {
   "cell_type": "code",
   "execution_count": 6,
   "metadata": {},
   "outputs": [
    {
     "name": "stdout",
     "output_type": "stream",
     "text": [
      "As de Tréboles\n",
      "11\n"
     ]
    }
   ],
   "source": [
    "#ESTA ES UNA CELDA DE PRUEBA PARA VALIDAR EL FUNCIONAMIENTO DEL OBJETO ANTERIOR\n",
    "\n",
    "prueba_cubierta=Cubierta()\n",
    "prueba_cubierta.shuffle()\n",
    "\n",
    "#Jugador de prueba\n",
    "\n",
    "prueba_jugador=Mano()\n",
    " \n",
    "#Reparto de una carta al jugador\n",
    "carta_repartida=prueba_cubierta.deal()\n",
    "print(carta_repartida)\n",
    "\n",
    "prueba_jugador.add_card(carta_repartida)\n",
    "print(prueba_jugador.valor)\n"
   ]
  },
  {
   "cell_type": "markdown",
   "metadata": {},
   "source": [
    "**Step 5: Create a Chips Class**<br>\n",
    "In addition to decks of cards and hands, we need to keep track of a Player's starting chips, bets, and ongoing winnings. This could be done using global variables, but in the spirit of object oriented programming, let's make a Chips class instead!"
   ]
  },
  {
   "cell_type": "code",
   "execution_count": 7,
   "metadata": {},
   "outputs": [],
   "source": [
    "class Fichas():\n",
    "    \n",
    "    def __init__(self):\n",
    "        self.total = 100  # This can be set to a default value or supplied by a user input\n",
    "        self.bet = 0\n",
    "        \n",
    "    def win_bet(self):\n",
    "        self.total+=self.bet\n",
    "    \n",
    "    def lose_bet(self):\n",
    "        self.total-=self.bet"
   ]
  },
  {
   "cell_type": "markdown",
   "metadata": {},
   "source": [
    "### Function Defintions\n",
    "A lot of steps are going to be repetitive. That's where functions come in! The following steps are guidelines - add or remove functions as needed in your own program."
   ]
  },
  {
   "cell_type": "markdown",
   "metadata": {},
   "source": [
    "**Step 6: Write a function for taking bets**<br>\n",
    "Since we're asking the user for an integer value, this would be a good place to use <code>try</code>/<code>except</code>. Remember to check that a Player's bet can be covered by their available chips."
   ]
  },
  {
   "cell_type": "code",
   "execution_count": 8,
   "metadata": {},
   "outputs": [],
   "source": [
    "def tomar_apuesta(fichas):\n",
    "    while True:\n",
    "        try:\n",
    "            fichas.bet=int(input('Por favor, haga su apuesta:'))\n",
    "        except ValueError:\n",
    "            print('Por favor, debe ingresar un monto entero')\n",
    "        else:\n",
    "            if fichas.bet>fichas.total:\n",
    "                print(\"Lo sentimos, su apuesta excede el total de sus fichas disponibles. Usted posee:\",fichas.total)\n",
    "            else:\n",
    "                break\n",
    "        \n",
    "            \n",
    "    \n",
    "    "
   ]
  },
  {
   "cell_type": "markdown",
   "metadata": {},
   "source": [
    "**Step 7: Write a function for taking hits**<br>\n",
    "Either player can take hits until they bust. This function will be called during gameplay anytime a Player requests a hit, or a Dealer's hand is less than 17. It should take in Deck and Hand objects as arguments, and deal one card off the deck and add it to the Hand. You may want it to check for aces in the event that a player's hand exceeds 21."
   ]
  },
  {
   "cell_type": "code",
   "execution_count": 9,
   "metadata": {},
   "outputs": [],
   "source": [
    "def hit(cubierta,mano):\n",
    "    \n",
    "    mano.add_card(cubierta.deal())\n",
    "    mano.adjust_for_ace()"
   ]
  },
  {
   "cell_type": "markdown",
   "metadata": {},
   "source": [
    "**Step 8: Write a function prompting the Player to Hit or Stand**<br>\n",
    "This function should accept the deck and the player's hand as arguments, and assign playing as a global variable.<br>\n",
    "If the Player Hits, employ the hit() function above. If the Player Stands, set the playing variable to False - this will control the behavior of a <code>while</code> loop later on in our code."
   ]
  },
  {
   "cell_type": "code",
   "execution_count": 10,
   "metadata": {},
   "outputs": [],
   "source": [
    "def hit_or_stand(cubierta,mano):\n",
    "    global playing  # to control an upcoming while loop\n",
    "    \n",
    "    while True:\n",
    "        x=input('Ingrese g si quiere golpear, o p si quiere parar')\n",
    "        if x[0].lower()=='g':\n",
    "            hit(cubierta,mano)\n",
    "        elif x[0].lower()=='p':\n",
    "            print('El Jugador decidió pararse. El turno es del Repartidor.')\n",
    "            playing=False\n",
    "        else:\n",
    "            print('Su respuesta no es válida. Por favor, intente nuevamente.')\n",
    "            continue\n",
    "        break"
   ]
  },
  {
   "cell_type": "markdown",
   "metadata": {},
   "source": [
    "**Step 9: Write functions to display cards**<br>\n",
    "When the game starts, and after each time Player takes a card, the dealer's first card is hidden and all of Player's cards are visible. At the end of the hand all cards are shown, and you may want to show each hand's total value. Write a function for each of these scenarios."
   ]
  },
  {
   "cell_type": "code",
   "execution_count": 11,
   "metadata": {},
   "outputs": [],
   "source": [
    "def show_some(jugador,apostador):\n",
    "    print(\"\\nDealer's Hand:\")\n",
    "    print(\" <card hidden>\")\n",
    "    print('',apostador.cartas[1])  \n",
    "    print(\"\\nPlayer's Hand:\", *jugador.cartas, sep='\\n ')\n",
    "    \n",
    "def show_all(jugador,apostador):\n",
    "    print(\"\\nDealer's Hand:\", *apostador.cartas, sep='\\n ')\n",
    "    print(\"Dealer's Hand =\",apostador.valor)\n",
    "    print(\"\\nPlayer's Hand:\", *jugador.cartas, sep='\\n ')\n",
    "    print(\"Player's Hand =\",jugador.valor)"
   ]
  },
  {
   "cell_type": "markdown",
   "metadata": {},
   "source": [
    "**Step 10: Write functions to handle end of game scenarios**<br>\n",
    "Remember to pass player's hand, dealer's hand and chips as needed."
   ]
  },
  {
   "cell_type": "code",
   "execution_count": 12,
   "metadata": {},
   "outputs": [],
   "source": [
    "def player_busts(jugador,apostador,fichas):\n",
    "    print(\"Player busts!\")\n",
    "    fichas.lose_bet()\n",
    "\n",
    "def player_wins(jugador,apostador,fichas):\n",
    "    print(\"Player wins!\")\n",
    "    fichas.win_bet()\n",
    "\n",
    "def dealer_busts(jugador,apostador,fichas):\n",
    "    print(\"Dealer busts!\")\n",
    "    fichas.win_bet()\n",
    "    \n",
    "def dealer_wins(jugador,apostador,fichas):\n",
    "    print(\"Dealer wins!\")\n",
    "    fichas.lose_bet()\n",
    "    \n",
    "def push(jugador,apostador):\n",
    "    print(\"Dealer and Player tie! It's a push.\")"
   ]
  },
  {
   "cell_type": "markdown",
   "metadata": {},
   "source": [
    "### And now on to the game!!"
   ]
  },
  {
   "cell_type": "code",
   "execution_count": 13,
   "metadata": {},
   "outputs": [
    {
     "name": "stdout",
     "output_type": "stream",
     "text": [
      "¡BIENVENIDO! Prepárese para jugar BlackJack\n",
      "Por favor, haga su apuesta:45\n",
      "\n",
      "Dealer's Hand:\n",
      " <card hidden>\n",
      " Siete de Corazones\n",
      "\n",
      "Player's Hand:\n",
      " Nueve de Tréboles\n",
      " Seis de Picas\n",
      "Ingrese g si quiere golpear, o p si quiere pararg\n",
      "\n",
      "Dealer's Hand:\n",
      " <card hidden>\n",
      " Siete de Corazones\n",
      "\n",
      "Player's Hand:\n",
      " Nueve de Tréboles\n",
      " Seis de Picas\n",
      " Cuatro de Diamantes\n",
      "Ingrese g si quiere golpear, o p si quiere pararg\n",
      "\n",
      "Dealer's Hand:\n",
      " <card hidden>\n",
      " Siete de Corazones\n",
      "\n",
      "Player's Hand:\n",
      " Nueve de Tréboles\n",
      " Seis de Picas\n",
      " Cuatro de Diamantes\n",
      " Reina de Diamantes\n"
     ]
    },
    {
     "ename": "NameError",
     "evalue": "name 'player_buts' is not defined",
     "output_type": "error",
     "traceback": [
      "\u001b[1;31m---------------------------------------------------------------------------\u001b[0m",
      "\u001b[1;31mNameError\u001b[0m                                 Traceback (most recent call last)",
      "\u001b[1;32m<ipython-input-13-8eb01ed406c5>\u001b[0m in \u001b[0;36m<module>\u001b[1;34m\u001b[0m\n\u001b[0;32m     39\u001b[0m         \u001b[1;31m# If player's hand exceeds 21, run player_busts() and break out of loop\u001b[0m\u001b[1;33m\u001b[0m\u001b[1;33m\u001b[0m\u001b[1;33m\u001b[0m\u001b[0m\n\u001b[0;32m     40\u001b[0m         \u001b[1;32mif\u001b[0m \u001b[0mmano_del_jugador\u001b[0m\u001b[1;33m.\u001b[0m\u001b[0mvalor\u001b[0m\u001b[1;33m>\u001b[0m\u001b[1;36m21\u001b[0m\u001b[1;33m:\u001b[0m\u001b[1;33m\u001b[0m\u001b[1;33m\u001b[0m\u001b[0m\n\u001b[1;32m---> 41\u001b[1;33m             \u001b[0mplayer_buts\u001b[0m\u001b[1;33m(\u001b[0m\u001b[0mmano_del_jugador\u001b[0m\u001b[1;33m,\u001b[0m\u001b[0mmano_del_repartidor\u001b[0m\u001b[1;33m,\u001b[0m\u001b[0mfichas_del_jugador\u001b[0m\u001b[1;33m)\u001b[0m\u001b[1;33m\u001b[0m\u001b[1;33m\u001b[0m\u001b[0m\n\u001b[0m\u001b[0;32m     42\u001b[0m \u001b[1;33m\u001b[0m\u001b[0m\n\u001b[0;32m     43\u001b[0m \u001b[1;33m\u001b[0m\u001b[0m\n",
      "\u001b[1;31mNameError\u001b[0m: name 'player_buts' is not defined"
     ]
    }
   ],
   "source": [
    "while True:\n",
    "    # Print an opening statement\n",
    "    print('¡BIENVENIDO! Prepárese para jugar BlackJack')\n",
    "\n",
    "    \n",
    "    # Create & shuffle the deck, deal two cards to each player\n",
    "    cubierta=Cubierta()\n",
    "    cubierta.shuffle()\n",
    "\n",
    "    mano_del_jugador=Mano()\n",
    "    mano_del_jugador.add_card(cubierta.deal())\n",
    "    mano_del_jugador.add_card(cubierta.deal())\n",
    "    \n",
    "    mano_del_repartidor=Mano()\n",
    "    mano_del_repartidor.add_card(cubierta.deal())\n",
    "    mano_del_repartidor.add_card(cubierta.deal())\n",
    "        \n",
    "    # Set up the Player's chips\n",
    "    fichas_del_jugador=Fichas()\n",
    "    \n",
    "    # Prompt the Player for their bet\n",
    "    tomar_apuesta(fichas_del_jugador)\n",
    "\n",
    "    \n",
    "    # Show cards (but keep one dealer card hidden)\n",
    "    show_some(mano_del_jugador,mano_del_repartidor)\n",
    "\n",
    "    \n",
    "    while playing:  # recall this variable from our hit_or_stand function\n",
    "        \n",
    "        # Prompt for Player to Hit or Stand\n",
    "        hit_or_stand(cubierta,mano_del_jugador)\n",
    "        \n",
    "        # Show cards (but keep one dealer card hidden)\n",
    "        show_some(mano_del_jugador,mano_del_repartidor)\n",
    "        \n",
    " \n",
    "        \n",
    "        # If player's hand exceeds 21, run player_busts() and break out of loop\n",
    "        if mano_del_jugador.valor>21:\n",
    "            player_busts(mano_del_jugador,mano_del_repartidor,fichas_del_jugador)\n",
    "        \n",
    "\n",
    "            break\n",
    "\n",
    "    # If Player hasn't busted, play Dealer's hand until Dealer reaches 17\n",
    "    if mano_del_jugador.valor<=21:\n",
    "        while mano_del_repartidor.valor<17:\n",
    "            hit(cubierta,mano_del_repartidor)\n",
    "    \n",
    "    \n",
    "        # Show all cards\n",
    "        show_all(mano_del_jugador,mano_del_repartidor)\n",
    "    \n",
    "        # Run different winning scenarios\n",
    "        if mano_del_repartidor.valor>21:\n",
    "            dealer_buts(mano_del_jugador,mano_del_repartidor,fichas_del_jugador)\n",
    "        \n",
    "        elif mano_del_repartidor.valor>mano_del_jugador.valor:\n",
    "            dealer_wins(mano_del_jugador,mano_del_repartidor,fichas_del_jugador)\n",
    "        \n",
    "        elif mano_del_repartidor.valor<mano_del_jugador.valor:\n",
    "            player_wins(mano_Del_jugador,mano_del_repartidor,fichas_del_jugador)\n",
    "            \n",
    "        else:\n",
    "            push(mano_del_jugador,mano_del_repartidor)\n",
    "        \n",
    "    \n",
    "    # Inform Player of their chips total\n",
    "    print(\"\\nPlayer's winnings stand at\",fichas_del_jugador.total)\n",
    "    \n",
    "    # Ask to play again\n",
    "    nuevo_juego=input(\"¿Usted quiere jugar otra mano? Ingrese 's' o 'n'\")\n",
    "    \n",
    "    if nuevo_juego[0].lower()=='s':\n",
    "        playing=True\n",
    "        continue\n",
    "    else:\n",
    "        print('¡Gracias por jugar!')\n",
    "        \n",
    "        break"
   ]
  },
  {
   "cell_type": "markdown",
   "metadata": {},
   "source": [
    "And that's it! Remember, these steps may differ significantly from your own solution. That's OK! Keep working on different sections of your program until you get the desired results. It takes a lot of time and patience! As always, feel free to post questions and comments to the QA Forums.\n",
    "# Good job!"
   ]
  },
  {
   "cell_type": "code",
   "execution_count": null,
   "metadata": {},
   "outputs": [],
   "source": []
  }
 ],
 "metadata": {
  "kernelspec": {
   "display_name": "Python 3",
   "language": "python",
   "name": "python3"
  },
  "language_info": {
   "codemirror_mode": {
    "name": "ipython",
    "version": 3
   },
   "file_extension": ".py",
   "mimetype": "text/x-python",
   "name": "python",
   "nbconvert_exporter": "python",
   "pygments_lexer": "ipython3",
   "version": "3.7.3"
  }
 },
 "nbformat": 4,
 "nbformat_minor": 1
}
